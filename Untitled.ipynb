{
 "cells": [
  {
   "cell_type": "code",
   "execution_count": 11,
   "id": "eef0c054",
   "metadata": {},
   "outputs": [
    {
     "name": "stdout",
     "output_type": "stream",
     "text": [
      "Predictions:\n",
      "Age: 40, Location: China, Occupation: Architect, Salary: 60000, Love Travel: Yes\n"
     ]
    }
   ],
   "source": [
    "import pandas as pd\n",
    "from sklearn.ensemble import RandomForestClassifier\n",
    "from sklearn.preprocessing import OneHotEncoder\n",
    "\n",
    "import pickle\n",
    "\n",
    "\n",
    "# Step 1: Prepare the data\n",
    "data = {\n",
    "    'name': ['Rubi', 'Renell', 'Shaine', 'Kellby', 'Con', 'Mame', 'Ivette', 'James', 'Jedediah', 'Reta', 'Mario', 'Nicolea', 'Veronika', 'Anstice', 'Earvin', 'Lidia', 'Shel'],\n",
    "    'age': [43, 61, 60, 78, 63, 65, 38, 46, 60, 35, 81, 28, 44, 32, 30, 78, 82],\n",
    "    'location': ['Japan', 'Portugal', 'China', 'China', 'Sweden', 'Russia', 'Sierra Leone', 'Indonesia', 'Russia', 'Afghanistan', 'Venezuela', 'China', 'Indonesia', 'Democratic Republic of the Congo', 'Luxembourg', 'Brazil', 'China'],\n",
    "    'occupation': ['Estimator', 'Subcontractor', 'Construction Worker', 'Surveyor', 'Project Manager', 'Construction Expeditor', 'Project Manager', 'Construction Worker', 'Construction Manager', 'Construction Manager', 'Architect', 'Construction Foreman', 'Subcontractor', 'Architect', 'Engineer', 'Surveyor', 'Project Manager'],\n",
    "    'salary': [35841, 89259, 54964, 42957, 32349, 84775, 52219, 44861, 46915, 50384, 88122, 77829, 31959, 48947, 33588, 39178, 46182],\n",
    "    'love_travel': [True, False, True, True, True, True, True, False, True, False, True, False, True, False, True, True, False]\n",
    "}\n",
    "\n",
    "df = pd.DataFrame(data)\n",
    "\n",
    "# Step 2: Drop the 'name' column\n",
    "df = df.drop('name', axis=1)\n",
    "\n",
    "# Step 3: Prepare the data for training\n",
    "X = df.drop('love_travel', axis=1)  # Input features\n",
    "y = df['love_travel']  # Target variable\n",
    "\n",
    "# Step 4: Perform one-hot encoding for categorical variables\n",
    "categorical_cols = ['location', 'occupation']\n",
    "numerical_cols = ['age', 'salary']\n",
    "\n",
    "ohe = OneHotEncoder(sparse=False, handle_unknown='ignore')\n",
    "X_encoded = ohe.fit_transform(X[categorical_cols])\n",
    "X_encoded_cols = ohe.get_feature_names_out(categorical_cols)\n",
    "X_encoded = pd.DataFrame(X_encoded, columns=X_encoded_cols, index=X.index)\n",
    "X_encoded[numerical_cols] = X[numerical_cols]\n",
    "\n",
    "# Step 5: Choose and train the model\n",
    "model = RandomForestClassifier()\n",
    "model.fit(X_encoded, y)\n",
    "\n",
    "# Step 6: Prepare new data for prediction\n",
    "new_data = {\n",
    "    'age': [40],\n",
    "    'location': ['China'],\n",
    "    'occupation': ['Architect'],\n",
    "    'salary': [60000]\n",
    "}\n",
    "\n",
    "new_df = pd.DataFrame(new_data)\n",
    "\n",
    "# Step 7: Perform one-hot encoding for new data\n",
    "new_df_encoded = ohe.transform(new_df[categorical_cols])\n",
    "new_df_encoded_cols = ohe.get_feature_names_out(categorical_cols)\n",
    "new_df_encoded = pd.DataFrame(new_df_encoded, columns=new_df_encoded_cols, index=new_df.index)\n",
    "new_df_encoded[numerical_cols] = new_df[numerical_cols]\n",
    "\n",
    "# Step 8: Make predictions on the new data\n",
    "new_predictions = model.predict(new_df_encoded)\n",
    "\n",
    "# Convert predictions to human-readable labels\n",
    "predicted_labels = ['Yes' if prediction else 'No' for prediction in new_predictions]\n",
    "\n",
    "# Print the predictions\n",
    "print(\"Predictions:\")\n",
    "for i in range(len(new_df)):\n",
    "    print(f\"Age: {new_data['age'][i]}, Location: {new_data['location'][i]}, Occupation: {new_data['occupation'][i]}, Salary: {new_data['salary'][i]}, Love Travel: {predicted_labels[i]}\")\n",
    "\n",
    "    \n",
    "    \n",
    "    "
   ]
  },
  {
   "cell_type": "code",
   "execution_count": null,
   "id": "0865971c",
   "metadata": {},
   "outputs": [],
   "source": []
  },
  {
   "cell_type": "code",
   "execution_count": 12,
   "id": "2d4a70c3",
   "metadata": {},
   "outputs": [
    {
     "ename": "NameError",
     "evalue": "name 'regressor' is not defined",
     "output_type": "error",
     "traceback": [
      "\u001b[1;31m---------------------------------------------------------------------------\u001b[0m",
      "\u001b[1;31mNameError\u001b[0m                                 Traceback (most recent call last)",
      "\u001b[1;32m~\\AppData\\Local\\Temp\\ipykernel_20924\\3081493944.py\u001b[0m in \u001b[0;36m<module>\u001b[1;34m\u001b[0m\n\u001b[1;32m----> 1\u001b[1;33m \u001b[0mpickle\u001b[0m\u001b[1;33m.\u001b[0m\u001b[0mdump\u001b[0m\u001b[1;33m(\u001b[0m\u001b[0mregressor\u001b[0m\u001b[1;33m,\u001b[0m \u001b[0mopen\u001b[0m\u001b[1;33m(\u001b[0m\u001b[1;34m'model.pkl'\u001b[0m\u001b[1;33m,\u001b[0m\u001b[1;34m'wb'\u001b[0m\u001b[1;33m)\u001b[0m\u001b[1;33m)\u001b[0m\u001b[1;33m\u001b[0m\u001b[1;33m\u001b[0m\u001b[0m\n\u001b[0m",
      "\u001b[1;31mNameError\u001b[0m: name 'regressor' is not defined"
     ]
    }
   ],
   "source": [
    "pickle.dump(regressor, open('model.pkl','wb'))\n"
   ]
  },
  {
   "cell_type": "code",
   "execution_count": 14,
   "id": "b04ad0a7",
   "metadata": {},
   "outputs": [],
   "source": [
    "import pickle\n",
    "\n",
    "\n",
    "# Save the trained model using pickle\n",
    "with open('model.pkl', 'wb') as file:\n",
    "    pickle.dump(regressor, file)\n"
   ]
  },
  {
   "cell_type": "code",
   "execution_count": null,
   "id": "a54ee121",
   "metadata": {},
   "outputs": [],
   "source": []
  }
 ],
 "metadata": {
  "kernelspec": {
   "display_name": "Python 3 (ipykernel)",
   "language": "python",
   "name": "python3"
  },
  "language_info": {
   "codemirror_mode": {
    "name": "ipython",
    "version": 3
   },
   "file_extension": ".py",
   "mimetype": "text/x-python",
   "name": "python",
   "nbconvert_exporter": "python",
   "pygments_lexer": "ipython3",
   "version": "3.9.13"
  }
 },
 "nbformat": 4,
 "nbformat_minor": 5
}
