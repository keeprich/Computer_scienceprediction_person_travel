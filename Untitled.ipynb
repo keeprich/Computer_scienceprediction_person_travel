{
 "cells": [
  {
   "cell_type": "code",
   "execution_count": null,
   "id": "53e28ab8",
   "metadata": {},
   "outputs": [],
   "source": []
  },
  {
   "cell_type": "code",
   "execution_count": 9,
   "id": "8f250666",
   "metadata": {},
   "outputs": [
    {
     "name": "stdout",
     "output_type": "stream",
     "text": [
      " * Serving Flask app \"__main__\" (lazy loading)\n",
      " * Environment: production\n",
      "\u001b[31m   WARNING: This is a development server. Do not use it in a production deployment.\u001b[0m\n",
      "\u001b[2m   Use a production WSGI server instead.\u001b[0m\n",
      " * Debug mode: on\n"
     ]
    },
    {
     "name": "stderr",
     "output_type": "stream",
     "text": [
      " * Restarting with watchdog (windowsapi)\n"
     ]
    },
    {
     "ename": "SystemExit",
     "evalue": "1",
     "output_type": "error",
     "traceback": [
      "An exception has occurred, use %tb to see the full traceback.\n",
      "\u001b[1;31mSystemExit\u001b[0m\u001b[1;31m:\u001b[0m 1\n"
     ]
    },
    {
     "name": "stderr",
     "output_type": "stream",
     "text": [
      "C:\\Users\\kenne\\anaconda3\\lib\\site-packages\\IPython\\core\\interactiveshell.py:3465: UserWarning: To exit: use 'exit', 'quit', or Ctrl-D.\n",
      "  warn(\"To exit: use 'exit', 'quit', or Ctrl-D.\", stacklevel=1)\n"
     ]
    }
   ],
   "source": [
    "import pandas as pd\n",
    "from sklearn.ensemble import RandomForestClassifier\n",
    "from sklearn.preprocessing import OneHotEncoder\n",
    "from flask import Flask, render_template, request\n",
    "import joblib\n",
    "\n",
    "app = Flask(__name__)\n",
    "\n",
    "# Define the routes\n",
    "@app.route('/')\n",
    "def home():\n",
    "    return render_template('index.html')\n",
    "\n",
    "@app.route('/predict', methods=['POST'])\n",
    "def predict():\n",
    "    age = int(request.form['age'])\n",
    "    location = request.form['location']\n",
    "    occupation = request.form['occupation']\n",
    "    salary = int(request.form['salary'])\n",
    "\n",
    "    # Prepare the data for prediction\n",
    "    new_data = {\n",
    "        'age': [age],\n",
    "        'location': [location],\n",
    "        'occupation': [occupation],\n",
    "        'salary': [salary]\n",
    "    }\n",
    "\n",
    "    new_df = pd.DataFrame(new_data)\n",
    "\n",
    "    # Perform one-hot encoding for new data\n",
    "    new_df_encoded = ohe.transform(new_df)\n",
    "    new_df_encoded_cols = ohe.get_feature_names_out(categorical_cols)\n",
    "    new_df_encoded = pd.DataFrame(new_df_encoded, columns=new_df_encoded_cols, index=new_df.index)\n",
    "\n",
    "    # Make predictions on the new data\n",
    "    new_predictions = model.predict(new_df_encoded)\n",
    "\n",
    "    # Convert predictions to human-readable labels\n",
    "    predicted_labels = ['Yes' if prediction else 'No' for prediction in new_predictions]\n",
    "\n",
    "    return render_template('result.html', age=age, location=location, occupation=occupation, salary=salary, prediction=predicted_labels[0])\n",
    "\n",
    "if __name__ == '__main__':\n",
    "    # Prepare the data for training\n",
    "    data = {\n",
    "        'name': ['Rubi', 'Renell', 'Shaine', 'Kellby', 'Con', 'Mame', 'Ivette', 'James', 'Jedediah', 'Reta', 'Mario', 'Nicolea', 'Veronika', 'Anstice', 'Earvin', 'Lidia', 'Shel'],\n",
    "        'age': [43, 61, 60, 78, 63, 65, 38, 46, 60, 35, 81, 28, 44, 32, 30, 78, 82],\n",
    "        'location': ['Japan', 'Portugal', 'China', 'China', 'Sweden', 'Russia', 'Sierra Leone', 'Indonesia', 'Russia', 'Afghanistan', 'Venezuela', 'China', 'Indonesia', 'Democratic Republic of the Congo', 'Luxembourg', 'Brazil', 'China'],\n",
    "        'occupation': ['Estimator', 'Subcontractor', 'Construction Worker', 'Surveyor', 'Project Manager', 'Construction Expeditor', 'Project Manager', 'Construction Worker', 'Construction Manager', 'Construction Manager', 'Architect', 'Construction Foreman', 'Subcontractor', 'Architect', 'Engineer', 'Surveyor', 'Project Manager'],\n",
    "        'salary': [35841, 89259, 54964, 42957, 32349, 84775, 52219, 44861, 46915, 50384, 88122, 77829, 31959, 48947, 33588, 39178, 46182],\n",
    "        'love_travel': [True, False, True, True, True, True, True, False, True, False, True, False, True, False, True, True, False]\n",
    "    }\n",
    "\n",
    "    df = pd.DataFrame(data)\n",
    "\n",
    "    # Drop the 'name' column\n",
    "    df = df.drop('name', axis=1)\n",
    "\n",
    "    # Prepare the data for training\n",
    "    X = df.drop('love_travel', axis=1)  # Input features\n",
    "    y = df['love_travel']  # Target variable\n",
    "\n",
    "    # Perform one-hot encoding for categorical variables\n",
    "    categorical_cols = ['location', 'occupation']\n",
    "    numerical_cols = ['age', 'salary']\n",
    "\n",
    "    ohe = OneHotEncoder(sparse=False, handle_unknown='ignore')\n",
    "    X_encoded = ohe.fit_transform(X[categorical_cols])\n",
    "    X_encoded_cols = ohe.get_feature_names_out(categorical_cols)\n",
    "    X_encoded = pd.DataFrame(X_encoded, columns=X_encoded_cols, index=X.index)\n",
    "    X_encoded[numerical_cols] = X[numerical_cols]\n",
    "\n",
    "    # Choose and train the model\n",
    "    model = RandomForestClassifier()\n",
    "    model.fit(X_encoded, y)\n",
    "\n",
    "    app.run(debug=True)\n"
   ]
  },
  {
   "cell_type": "code",
   "execution_count": null,
   "id": "d677251f",
   "metadata": {},
   "outputs": [],
   "source": []
  }
 ],
 "metadata": {
  "kernelspec": {
   "display_name": "Python 3 (ipykernel)",
   "language": "python",
   "name": "python3"
  },
  "language_info": {
   "codemirror_mode": {
    "name": "ipython",
    "version": 3
   },
   "file_extension": ".py",
   "mimetype": "text/x-python",
   "name": "python",
   "nbconvert_exporter": "python",
   "pygments_lexer": "ipython3",
   "version": "3.9.13"
  }
 },
 "nbformat": 4,
 "nbformat_minor": 5
}
